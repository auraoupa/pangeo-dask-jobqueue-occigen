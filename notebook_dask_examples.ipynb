{
 "cells": [
  {
   "cell_type": "markdown",
   "metadata": {},
   "source": [
    "# Exemples simples d'utilisation de Dask\n",
    "\n",
    "Ce notebook montre plusieurs choses :\n",
    "* Comment démarrer un cluster Dask depuis un notebook sur HAL, et le rendre adaptatif\n",
    "* Comment manipuler des séries temporelles avec le module dask.dataframe\n",
    "* Comment utiliser les dataframes et l'API Client pour soumettre une séries de simulation ou de calculs assez long (> 100 ms)"
   ]
  },
  {
   "cell_type": "markdown",
   "metadata": {},
   "source": [
    "## Démarrage et configuration du cluster\n",
    "\n",
    "Grâce au module dask_jobqueue, il est possible de démarrer un sous-cluster Dask sur le cluster HAL, avec quelques lignes depuis un notebook.\n",
    "\n",
    "### Imports initiaux et création du cluster\n",
    "\n",
    "Ici on importe les classes principalement utilisées, puis on va créer un cluster sur PBS.\n",
    "Ce cluster sera composé de worker Dask, lancés via des jobs PBS. Chaque job PBS utilisera 4 ncpus et 20 GB de mémoire dans PBS, et sera composé de 2 workers. C'est ce qui est définit dans le constructeur ci-dessous.\n",
    "Ensuite, chaque job sera lancé indépendamment sur demande de notre part ou automatiquement si on l'a indiqué."
   ]
  },
  {
   "cell_type": "code",
   "execution_count": 1,
   "metadata": {},
   "outputs": [],
   "source": [
    "from dask_jobqueue import PBSCluster\n",
    "\n",
    "cluster = PBSCluster(processes=1, cores=4, memory=\"20GB\", local_directory='$TMPDIR',\n",
    "                     project='DaskTest', walltime='01:00:00', interface='ib0')"
   ]
  },
  {
   "cell_type": "markdown",
   "metadata": {},
   "source": [
    "En affichant le cluster dans le notebook, on doit voir un widget qui nous permet de faire varier la taille de notre cluster manuellement, ou de manière automatique (Adaptive cluster). On peut aussi configurer ça via des lignes des codes comme montré ci-dessous."
   ]
  },
  {
   "cell_type": "code",
   "execution_count": 2,
   "metadata": {},
   "outputs": [
    {
     "data": {
      "application/vnd.jupyter.widget-view+json": {
       "model_id": "8d5f8ef3ee774369a883c89563b090b1",
       "version_major": 2,
       "version_minor": 0
      },
      "text/plain": [
       "VBox(children=(HTML(value='<h2>PBSCluster</h2>'), HBox(children=(HTML(value='\\n<div>\\n  <style scoped>\\n    .d…"
      ]
     },
     "metadata": {},
     "output_type": "display_data"
    }
   ],
   "source": [
    "cluster"
   ]
  },
  {
   "cell_type": "markdown",
   "metadata": {},
   "source": [
    "Spécification manuelle de la taille du cluster. Le paramètre donné est le nombre de workers Dask."
   ]
  },
  {
   "cell_type": "code",
   "execution_count": 2,
   "metadata": {},
   "outputs": [],
   "source": [
    "cluster.scale(8)"
   ]
  },
  {
   "cell_type": "markdown",
   "metadata": {},
   "source": [
    "Indiquer qu'on veut un cluster adaptatif (dont la taille variera en fonction de la charge).\n",
    "\n",
    "Lancer la cellule suivante (ou précédente) doit modifier les informations affichées dans le widget."
   ]
  },
  {
   "cell_type": "code",
   "execution_count": 3,
   "metadata": {},
   "outputs": [
    {
     "data": {
      "text/plain": [
       "<distributed.deploy.adaptive.Adaptive at 0x2ae02143ba58>"
      ]
     },
     "execution_count": 3,
     "metadata": {},
     "output_type": "execute_result"
    }
   ],
   "source": [
    "cluster.adapt(minimum=4, maximum=60)"
   ]
  },
  {
   "cell_type": "markdown",
   "metadata": {},
   "source": [
    "### Déclaration du client\n",
    "\n",
    "Afin que toutes les API de dask (dataframe, delayed, bag ...) utilisent le cluster Dask qu'on a démarré, il est indispensable d'initialiser un client.\n",
    "\n",
    "On pourra de plus utiliser ce client pour soumettre des tâches dans la suite de cet exemple.\n",
    "\n",
    "Afficher le client devrait indiquer la taille actuelle du cluster et donner un lien vers le Dashboard Dask. Ce lien ne fonctionne pas forcément depuis votre navigateur. Néanmoins, une technologie de proxy a été déployée, vous devriez donc pouvoir accéder au dashboard Dask à travers l'URL suivante :\n",
    "\n",
    "https://jupyterhub.sis.cnes.fr/user/username/proxy/8787/status\n",
    "\n",
    "Le port peut être différent du port par défaut qui est 8787."
   ]
  },
  {
   "cell_type": "code",
   "execution_count": 5,
   "metadata": {},
   "outputs": [
    {
     "data": {
      "text/html": [
       "<table style=\"border: 2px solid white;\">\n",
       "<tr>\n",
       "<td style=\"vertical-align: top; border: 0px solid white\">\n",
       "<h3>Client</h3>\n",
       "<ul>\n",
       "  <li><b>Scheduler: </b>tcp://10.120.43.90:58199\n",
       "  <li><b>Dashboard: </b><a href='../proxy/8787/status' target='_blank'>../proxy/8787/status</a>\n",
       "</ul>\n",
       "</td>\n",
       "<td style=\"vertical-align: top; border: 0px solid white\">\n",
       "<h3>Cluster</h3>\n",
       "<ul>\n",
       "  <li><b>Workers: </b>4</li>\n",
       "  <li><b>Cores: </b>8</li>\n",
       "  <li><b>Memory: </b>40.00 GB</li>\n",
       "</ul>\n",
       "</td>\n",
       "</tr>\n",
       "</table>"
      ],
      "text/plain": [
       "<Client: scheduler='tcp://10.120.43.90:58199' processes=4 cores=8>"
      ]
     },
     "execution_count": 5,
     "metadata": {},
     "output_type": "execute_result"
    }
   ],
   "source": [
    "from dask.distributed import Client\n",
    "client = Client(cluster)\n",
    "client"
   ]
  },
  {
   "cell_type": "markdown",
   "metadata": {},
   "source": [
    "## Utilisation de l'API Client pour soumettre des simulations\n",
    "\n",
    "Un cas typique d'utilisation du cluster : la soumission d'un calcul complexe (de quelques secondes à plusieurs minutes) sur un ensemble de paramètres d'entrée différent. Ce qu'on peut voir en faisant du Monte Carlo par exemple, mais dans d'autres cas aussi.\n",
    "\n",
    "Le principe est donc de générer ou lire l'ensemble des paramètres à utiliser pour le calcul, puis de lancer ce calcul pour chaque jeu de paramètres. Cette démo est bien sur simplifiées, la fonction de calcul est une pure fonction python.\n",
    "\n",
    "### Génération/lecture des données d'entrées\n",
    "\n",
    "On considère ici que les paramètres d'entrées sont lu dans une dataframe pandas, qui est capable de lire des fichiers CSV, mais il est aussi possible d'en générer une nous même comme ci-dessous (mais avec des données plus intéressantes ...).\n",
    "On part sur 1000 simulations ici, libre à vous de modifier ça !"
   ]
  },
  {
   "cell_type": "code",
   "execution_count": 6,
   "metadata": {},
   "outputs": [
    {
     "data": {
      "text/html": [
       "<div>\n",
       "<style scoped>\n",
       "    .dataframe tbody tr th:only-of-type {\n",
       "        vertical-align: middle;\n",
       "    }\n",
       "\n",
       "    .dataframe tbody tr th {\n",
       "        vertical-align: top;\n",
       "    }\n",
       "\n",
       "    .dataframe thead th {\n",
       "        text-align: right;\n",
       "    }\n",
       "</style>\n",
       "<table border=\"1\" class=\"dataframe\">\n",
       "  <thead>\n",
       "    <tr style=\"text-align: right;\">\n",
       "      <th></th>\n",
       "      <th>a</th>\n",
       "      <th>b</th>\n",
       "      <th>c</th>\n",
       "      <th>d</th>\n",
       "    </tr>\n",
       "  </thead>\n",
       "  <tbody>\n",
       "    <tr>\n",
       "      <th>0</th>\n",
       "      <td>206</td>\n",
       "      <td>368</td>\n",
       "      <td>939</td>\n",
       "      <td>341</td>\n",
       "    </tr>\n",
       "    <tr>\n",
       "      <th>1</th>\n",
       "      <td>830</td>\n",
       "      <td>53</td>\n",
       "      <td>810</td>\n",
       "      <td>538</td>\n",
       "    </tr>\n",
       "    <tr>\n",
       "      <th>2</th>\n",
       "      <td>58</td>\n",
       "      <td>736</td>\n",
       "      <td>598</td>\n",
       "      <td>713</td>\n",
       "    </tr>\n",
       "    <tr>\n",
       "      <th>3</th>\n",
       "      <td>26</td>\n",
       "      <td>9</td>\n",
       "      <td>173</td>\n",
       "      <td>220</td>\n",
       "    </tr>\n",
       "    <tr>\n",
       "      <th>4</th>\n",
       "      <td>466</td>\n",
       "      <td>306</td>\n",
       "      <td>640</td>\n",
       "      <td>73</td>\n",
       "    </tr>\n",
       "  </tbody>\n",
       "</table>\n",
       "</div>"
      ],
      "text/plain": [
       "     a    b    c    d\n",
       "0  206  368  939  341\n",
       "1  830   53  810  538\n",
       "2   58  736  598  713\n",
       "3   26    9  173  220\n",
       "4  466  306  640   73"
      ]
     },
     "execution_count": 6,
     "metadata": {},
     "output_type": "execute_result"
    }
   ],
   "source": [
    "#Generates parameters \n",
    "import pandas as pd\n",
    "import numpy as np\n",
    "#We generate random params, but could do this with some intelligence, or read it from a csv file\n",
    "input_params = pd.DataFrame(np.random.randint(low=0, high=1000, size=(1000, 4)),\n",
    "               columns=['a', 'b', 'c', 'd'])\n",
    "input_params.head()"
   ]
  },
  {
   "cell_type": "markdown",
   "metadata": {},
   "source": [
    "### Définition de la méthode de calcul\n",
    "\n",
    "La méthode ci-dessous se contente de simuler un calcul durant entre 0 et 2 secondes. On peut bien sur l'adapter, et eventuellement appeler un processus externe beaucoup plus long. A noter qu'il est important de retourner le résultat via python, et non dans un fichier !"
   ]
  },
  {
   "cell_type": "code",
   "execution_count": 7,
   "metadata": {},
   "outputs": [],
   "source": [
    "# Launch a task on all of this params, dont wait for result\n",
    "def my_costly_simulation(line):\n",
    "    #print(line)\n",
    "    import time\n",
    "    import random\n",
    "    time.sleep(random.random() * 2)\n",
    "    return sum(line)"
   ]
  },
  {
   "cell_type": "markdown",
   "metadata": {},
   "source": [
    "### Soumission du calcul\n",
    "\n",
    "Il ne reste plus qu'à soumettre et éventuellement attendre la fin du calcul. \n",
    "La soumission n'est pas bloquante, le calcul s'effectuera en tache de fond sur le cluster Dask, n'hésitez pas à ouvrir l'application Dashboard de Dask pour voir l'avancement, et éventuellement l'elasticité du cluster si vous êtes en mode adaptatif."
   ]
  },
  {
   "cell_type": "code",
   "execution_count": 8,
   "metadata": {},
   "outputs": [],
   "source": [
    "futures = client.map(my_costly_simulation, input_params.values)"
   ]
  },
  {
   "cell_type": "markdown",
   "metadata": {},
   "source": [
    "On peut aussi regarder les jobs en cours sur le cluster, et voir leur variation en exécutant plusieurs fois la cellule suivante.\n",
    "N'hésitez pas à lancer plusieurs fois la simulation ci-dessus pour expérimenter. Il peut être nécessaire de réexécuter la cellule de la fonction de simulation, sinon Dask peut estimer que le même calcul lui est demandé, et ne rien faire."
   ]
  },
  {
   "cell_type": "code",
   "execution_count": 9,
   "metadata": {},
   "outputs": [
    {
     "name": "stdout",
     "output_type": "stream",
     "text": [
      "\r\n",
      "admin01: \r\n",
      "                                                            Req'd  Req'd   Elap\r\n",
      "Job ID          Username Queue    Jobname    SessID NDS TSK Memory Time  S Time\r\n",
      "--------------- -------- -------- ---------- ------ --- --- ------ ----- - -----\r\n",
      "6535422.admin01 eynardbg qdev     jupyterhub  37436   1   1 5000mb 08:00 R 00:49\r\n",
      "6536733.admin01 eynardbg qt1h     dask-worke   8878   1   4   19gb 01:00 R 00:00\r\n",
      "6536734.admin01 eynardbg qt1h     dask-worke  32510   1   4   19gb 01:00 R 00:00\r\n",
      "6536768.admin01 eynardbg qt1h     dask-worke    --    1   4   19gb 01:00 Q   -- \r\n",
      "6536769.admin01 eynardbg qt1h     dask-worke    --    1   4   19gb 01:00 Q   -- \r\n",
      "6536770.admin01 eynardbg qt1h     dask-worke    --    1   4   19gb 01:00 Q   -- \r\n",
      "6536771.admin01 eynardbg qt1h     dask-worke    --    1   4   19gb 01:00 Q   -- \r\n",
      "6536772.admin01 eynardbg qt1h     dask-worke    --    1   4   19gb 01:00 Q   -- \r\n",
      "6536773.admin01 eynardbg qt1h     dask-worke    --    1   4   19gb 01:00 Q   -- \r\n",
      "6536774.admin01 eynardbg qt1h     dask-worke    --    1   4   19gb 01:00 Q   -- \r\n",
      "6536775.admin01 eynardbg qt1h     dask-worke    --    1   4   19gb 01:00 Q   -- \r\n",
      "6536776.admin01 eynardbg qt1h     dask-worke    --    1   4   19gb 01:00 Q   -- \r\n",
      "6536777.admin01 eynardbg qt1h     dask-worke    --    1   4   19gb 01:00 Q   -- \r\n",
      "6536778.admin01 eynardbg qt1h     dask-worke    --    1   4   19gb 01:00 Q   -- \r\n",
      "6536779.admin01 eynardbg qt1h     dask-worke    --    1   4   19gb 01:00 Q   -- \r\n",
      "6536780.admin01 eynardbg qt1h     dask-worke    --    1   4   19gb 01:00 Q   -- \r\n",
      "6536781.admin01 eynardbg qt1h     dask-worke    --    1   4   19gb 01:00 Q   -- \r\n"
     ]
    }
   ],
   "source": [
    "!qstat -u $USER"
   ]
  },
  {
   "cell_type": "markdown",
   "metadata": {},
   "source": [
    "### Récupération des résultats\n",
    "\n",
    "Pour l'instant, les résultats sont stockés sur les workers Dask, on peut récupérer ceux-ci à l'aide la la méthode gather.\n",
    "Ici, on fait aussi en sorte de fusionner paramètres d'entrée et résultats dans une jolie table, qu'on pourra sauvegarder sous format tabulaire : CSV, HDF5..."
   ]
  },
  {
   "cell_type": "code",
   "execution_count": 10,
   "metadata": {},
   "outputs": [
    {
     "data": {
      "text/html": [
       "<div>\n",
       "<style scoped>\n",
       "    .dataframe tbody tr th:only-of-type {\n",
       "        vertical-align: middle;\n",
       "    }\n",
       "\n",
       "    .dataframe tbody tr th {\n",
       "        vertical-align: top;\n",
       "    }\n",
       "\n",
       "    .dataframe thead th {\n",
       "        text-align: right;\n",
       "    }\n",
       "</style>\n",
       "<table border=\"1\" class=\"dataframe\">\n",
       "  <thead>\n",
       "    <tr style=\"text-align: right;\">\n",
       "      <th></th>\n",
       "      <th>a</th>\n",
       "      <th>b</th>\n",
       "      <th>c</th>\n",
       "      <th>d</th>\n",
       "      <th>result</th>\n",
       "    </tr>\n",
       "  </thead>\n",
       "  <tbody>\n",
       "    <tr>\n",
       "      <th>713</th>\n",
       "      <td>171</td>\n",
       "      <td>618</td>\n",
       "      <td>257</td>\n",
       "      <td>407</td>\n",
       "      <td>1453</td>\n",
       "    </tr>\n",
       "    <tr>\n",
       "      <th>880</th>\n",
       "      <td>394</td>\n",
       "      <td>162</td>\n",
       "      <td>860</td>\n",
       "      <td>397</td>\n",
       "      <td>1813</td>\n",
       "    </tr>\n",
       "    <tr>\n",
       "      <th>291</th>\n",
       "      <td>496</td>\n",
       "      <td>120</td>\n",
       "      <td>893</td>\n",
       "      <td>920</td>\n",
       "      <td>2429</td>\n",
       "    </tr>\n",
       "    <tr>\n",
       "      <th>635</th>\n",
       "      <td>745</td>\n",
       "      <td>640</td>\n",
       "      <td>233</td>\n",
       "      <td>194</td>\n",
       "      <td>1812</td>\n",
       "    </tr>\n",
       "    <tr>\n",
       "      <th>927</th>\n",
       "      <td>664</td>\n",
       "      <td>195</td>\n",
       "      <td>64</td>\n",
       "      <td>851</td>\n",
       "      <td>1774</td>\n",
       "    </tr>\n",
       "  </tbody>\n",
       "</table>\n",
       "</div>"
      ],
      "text/plain": [
       "       a    b    c    d  result\n",
       "713  171  618  257  407    1453\n",
       "880  394  162  860  397    1813\n",
       "291  496  120  893  920    2429\n",
       "635  745  640  233  194    1812\n",
       "927  664  195   64  851    1774"
      ]
     },
     "execution_count": 10,
     "metadata": {},
     "output_type": "execute_result"
    }
   ],
   "source": [
    "# Block until result, and add the column to initial input tables\n",
    "results = client.gather(futures)\n",
    "output = input_params.copy()\n",
    "output['result'] = pd.Series(results, index=output.index)\n",
    "output.sample(5)"
   ]
  },
  {
   "cell_type": "markdown",
   "metadata": {},
   "source": [
    "## Utilisation des dataframe pour faire des traitements time series\n",
    "\n",
    "Cette exemple est récupéré du projet dask-example, vous pouvez consulter l'exemple complet sur le github associé : https://github.com/dask/dask-examples/blob/master/dataframe.ipynb.\n",
    "\n",
    "On génère juste des timeseries assez volumineuses, et on fait quelques calculs dessus, mais aussi des affichages. Là aussi, n'hésitez pas à regarder ce qui se passe sur le dashboard Dask !"
   ]
  },
  {
   "cell_type": "code",
   "execution_count": 11,
   "metadata": {},
   "outputs": [],
   "source": [
    "import dask.dataframe as dd\n",
    "df = dd.demo.make_timeseries('2000-01-01', '2020-12-31', freq='1s', partition_freq='1M',\n",
    "                             dtypes={'name': str, 'id': int, 'x': float, 'y': float})"
   ]
  },
  {
   "cell_type": "markdown",
   "metadata": {},
   "source": [
    "On redécoupe les données, puis calcule une moyenne par semaine des paramètres x et y.\n",
    "Comme on affiche que la head, on ne va pas calculer sur tout le dataset."
   ]
  },
  {
   "cell_type": "code",
   "execution_count": 12,
   "metadata": {},
   "outputs": [
    {
     "data": {
      "text/html": [
       "<div>\n",
       "<style scoped>\n",
       "    .dataframe tbody tr th:only-of-type {\n",
       "        vertical-align: middle;\n",
       "    }\n",
       "\n",
       "    .dataframe tbody tr th {\n",
       "        vertical-align: top;\n",
       "    }\n",
       "\n",
       "    .dataframe thead th {\n",
       "        text-align: right;\n",
       "    }\n",
       "</style>\n",
       "<table border=\"1\" class=\"dataframe\">\n",
       "  <thead>\n",
       "    <tr style=\"text-align: right;\">\n",
       "      <th></th>\n",
       "      <th>x</th>\n",
       "      <th>y</th>\n",
       "    </tr>\n",
       "  </thead>\n",
       "  <tbody>\n",
       "    <tr>\n",
       "      <th>2000-02-06</th>\n",
       "      <td>0.000400</td>\n",
       "      <td>-0.000164</td>\n",
       "    </tr>\n",
       "    <tr>\n",
       "      <th>2000-02-13</th>\n",
       "      <td>0.000293</td>\n",
       "      <td>0.000465</td>\n",
       "    </tr>\n",
       "    <tr>\n",
       "      <th>2000-02-20</th>\n",
       "      <td>0.000364</td>\n",
       "      <td>0.000392</td>\n",
       "    </tr>\n",
       "    <tr>\n",
       "      <th>2000-02-27</th>\n",
       "      <td>-0.000031</td>\n",
       "      <td>-0.001355</td>\n",
       "    </tr>\n",
       "  </tbody>\n",
       "</table>\n",
       "</div>"
      ],
      "text/plain": [
       "                   x         y\n",
       "2000-02-06  0.000400 -0.000164\n",
       "2000-02-13  0.000293  0.000465\n",
       "2000-02-20  0.000364  0.000392\n",
       "2000-02-27 -0.000031 -0.001355"
      ]
     },
     "execution_count": 12,
     "metadata": {},
     "output_type": "execute_result"
    }
   ],
   "source": [
    "df[['x', 'y']].resample('1w').mean().head()"
   ]
  },
  {
   "cell_type": "markdown",
   "metadata": {},
   "source": [
    "Ici on va afficher la moyenne en fonction du temps, il faut donc calculer sur tout le dataset, ça va être plus long."
   ]
  },
  {
   "cell_type": "code",
   "execution_count": 13,
   "metadata": {},
   "outputs": [
    {
     "data": {
      "text/plain": [
       "<matplotlib.axes._subplots.AxesSubplot at 0x2ae0a4cf5358>"
      ]
     },
     "execution_count": 13,
     "metadata": {},
     "output_type": "execute_result"
    },
    {
     "data": {
      "image/png": "[encoded data removed]",
      "text/plain": [
       "<Figure size 432x288 with 1 Axes>"
      ]
     },
     "metadata": {},
     "output_type": "display_data"
    }
   ],
   "source": [
    "%matplotlib inline\n",
    "df[['x', 'y']].resample('1w').mean().compute().plot()"
   ]
  },
  {
   "cell_type": "code",
   "execution_count": null,
   "metadata": {},
   "outputs": [],
   "source": []
  }
 ],
 "metadata": {
  "kernelspec": {
   "display_name": "Python 3",
   "language": "python",
   "name": "python3"
  },
  "language_info": {
   "codemirror_mode": {
    "name": "ipython",
    "version": 3
   },
   "file_extension": ".py",
   "mimetype": "text/x-python",
   "name": "python",
   "nbconvert_exporter": "python",
   "pygments_lexer": "ipython3",
   "version": "3.7.3"
  }
 },
 "nbformat": 4,
 "nbformat_minor": 2
}
